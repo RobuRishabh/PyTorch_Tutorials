{
 "cells": [
  {
   "cell_type": "markdown",
   "id": "3925bb96",
   "metadata": {},
   "source": [
    "  # PyTorch Basics : Tensors & Gradients"
   ]
  },
  {
   "cell_type": "code",
   "execution_count": 1,
   "id": "24277483",
   "metadata": {},
   "outputs": [],
   "source": [
    "!pip install torch numpy --quiet"
   ]
  },
  {
   "cell_type": "code",
   "execution_count": 2,
   "id": "3f7c934e",
   "metadata": {},
   "outputs": [],
   "source": [
    "import torch"
   ]
  },
  {
   "cell_type": "markdown",
   "id": "9339580c",
   "metadata": {},
   "source": [
    "# Tensors"
   ]
  },
  {
   "cell_type": "markdown",
   "id": "e6b816a6",
   "metadata": {},
   "source": [
    "PyTorch is a library for processing tensors. A tensor is a number, vector, matrix, or any n-dimensional array. Let's create a tensor with a sinle number"
   ]
  },
  {
   "cell_type": "code",
   "execution_count": 3,
   "id": "5f21332a",
   "metadata": {},
   "outputs": [
    {
     "data": {
      "text/plain": [
       "tensor(4.)"
      ]
     },
     "execution_count": 3,
     "metadata": {},
     "output_type": "execute_result"
    }
   ],
   "source": [
    "# Number\n",
    "t1 = torch.tensor(4.)\n",
    "t1"
   ]
  },
  {
   "cell_type": "markdown",
   "id": "6a30d53d",
   "metadata": {},
   "source": [
    "`4.` is a shorthand for `4.0`. It is used to indicate a python (and Pytorch) that you want to create a floating-point number. we can verify this by checking the `dtype` attribute of our tensor"
   ]
  },
  {
   "cell_type": "code",
   "execution_count": 4,
   "id": "da5ae10f",
   "metadata": {},
   "outputs": [
    {
     "data": {
      "text/plain": [
       "torch.float32"
      ]
     },
     "execution_count": 4,
     "metadata": {},
     "output_type": "execute_result"
    }
   ],
   "source": [
    "t1.dtype"
   ]
  },
  {
   "cell_type": "markdown",
   "id": "be423126",
   "metadata": {},
   "source": [
    " ##### Note : If we wouldn't have written . after 4 then the datatype would have been `int64` \n",
    " Always try to create float tensor so that all the operations are of floating type and there is no data loss. "
   ]
  },
  {
   "cell_type": "markdown",
   "id": "fa60c749",
   "metadata": {},
   "source": [
    "Let's try creating more complex tensors"
   ]
  },
  {
   "cell_type": "code",
   "execution_count": 5,
   "id": "e413826c",
   "metadata": {},
   "outputs": [
    {
     "data": {
      "text/plain": [
       "tensor([1., 2., 3., 4.])"
      ]
     },
     "execution_count": 5,
     "metadata": {},
     "output_type": "execute_result"
    }
   ],
   "source": [
    "# Vector\n",
    "t2 = torch.tensor([1., 2, 3, 4])\n",
    "t2"
   ]
  },
  {
   "cell_type": "markdown",
   "id": "3d8af11b",
   "metadata": {},
   "source": [
    "Tensor makes all the `dtype` same, so `1.` was `float32`, so it made the whole vector as `float32`"
   ]
  },
  {
   "cell_type": "code",
   "execution_count": 6,
   "id": "5b4c935d",
   "metadata": {},
   "outputs": [
    {
     "data": {
      "text/plain": [
       "tensor([[ 5.,  6.],\n",
       "        [ 7.,  8.],\n",
       "        [ 9., 10.]])"
      ]
     },
     "execution_count": 6,
     "metadata": {},
     "output_type": "execute_result"
    }
   ],
   "source": [
    "# Matrix\n",
    "t3 = torch.tensor([[5., 6],\n",
    "                  [7 , 8],\n",
    "                  [9, 10]])\n",
    "t3"
   ]
  },
  {
   "cell_type": "code",
   "execution_count": 7,
   "id": "ce6d816c",
   "metadata": {},
   "outputs": [
    {
     "data": {
      "text/plain": [
       "tensor([[[11., 12., 13.],\n",
       "         [14., 15., 16.]],\n",
       "\n",
       "        [[17., 18., 19.],\n",
       "         [20., 21., 22.]]])"
      ]
     },
     "execution_count": 7,
     "metadata": {},
     "output_type": "execute_result"
    }
   ],
   "source": [
    "# 3D array\n",
    "t4 = torch.tensor([\n",
    "    [[11, 12, 13],\n",
    "    [14, 15, 16]],\n",
    "    [[17, 18, 19],\n",
    "    [20, 21, 22.]]\n",
    "])\n",
    "t4"
   ]
  },
  {
   "cell_type": "markdown",
   "id": "b3c2e80a",
   "metadata": {},
   "source": [
    "Tensors can have any number of dimensions and different lengths along each dimensions. We can inspect the length along each dimension using the `.shape` property of tensor."
   ]
  },
  {
   "cell_type": "code",
   "execution_count": 8,
   "id": "5fb02fb0",
   "metadata": {},
   "outputs": [
    {
     "name": "stdout",
     "output_type": "stream",
     "text": [
      "tensor(4.)\n"
     ]
    },
    {
     "data": {
      "text/plain": [
       "torch.Size([])"
      ]
     },
     "execution_count": 8,
     "metadata": {},
     "output_type": "execute_result"
    }
   ],
   "source": [
    "print(t1)\n",
    "t1.shape"
   ]
  },
  {
   "cell_type": "markdown",
   "id": "c6ed5fa1",
   "metadata": {},
   "source": [
    "t1 is a single number, it doesn't have any shape. Its dimensionless. That's why an empty list occurs"
   ]
  },
  {
   "cell_type": "code",
   "execution_count": 9,
   "id": "a291d836",
   "metadata": {},
   "outputs": [
    {
     "name": "stdout",
     "output_type": "stream",
     "text": [
      "tensor([1., 2., 3., 4.])\n"
     ]
    },
    {
     "data": {
      "text/plain": [
       "torch.Size([4])"
      ]
     },
     "execution_count": 9,
     "metadata": {},
     "output_type": "execute_result"
    }
   ],
   "source": [
    "print(t2)\n",
    "t2.shape"
   ]
  },
  {
   "cell_type": "markdown",
   "id": "565c3362",
   "metadata": {},
   "source": [
    "t2 is a 1D vector. One number represent 1 dimension and 4 represent 4 elements that are present in that 1D array "
   ]
  },
  {
   "cell_type": "code",
   "execution_count": 10,
   "id": "6b98247e",
   "metadata": {},
   "outputs": [
    {
     "name": "stdout",
     "output_type": "stream",
     "text": [
      "tensor([[ 5.,  6.],\n",
      "        [ 7.,  8.],\n",
      "        [ 9., 10.]])\n"
     ]
    },
    {
     "data": {
      "text/plain": [
       "torch.Size([3, 2])"
      ]
     },
     "execution_count": 10,
     "metadata": {},
     "output_type": "execute_result"
    }
   ],
   "source": [
    "print(t3)\n",
    "t3.shape"
   ]
  },
  {
   "cell_type": "markdown",
   "id": "f5ee8c49",
   "metadata": {},
   "source": [
    "3 represent no.of rows and 2 represents no.of columns"
   ]
  },
  {
   "cell_type": "markdown",
   "id": "3f5dfe7e",
   "metadata": {},
   "source": [
    "## Tensor operation and gradients"
   ]
  },
  {
   "cell_type": "markdown",
   "id": "dbcf3ac8",
   "metadata": {},
   "source": [
    "We can combine tensors with the usual arithmetic operations. Let's look at an example:"
   ]
  },
  {
   "cell_type": "code",
   "execution_count": 11,
   "id": "d01642d7",
   "metadata": {},
   "outputs": [
    {
     "data": {
      "text/plain": [
       "(tensor(3.), tensor(4., requires_grad=True), tensor(5., requires_grad=True))"
      ]
     },
     "execution_count": 11,
     "metadata": {},
     "output_type": "execute_result"
    }
   ],
   "source": [
    "# Create tensors.\n",
    "x = torch.tensor(3.)\n",
    "w = torch.tensor(4., requires_grad = True)\n",
    "b = torch.tensor(5., requires_grad = True)\n",
    "x,w,b"
   ]
  },
  {
   "cell_type": "markdown",
   "id": "605d31dd",
   "metadata": {},
   "source": [
    "We've created 3 tensors : x, w, b all numbers."
   ]
  },
  {
   "cell_type": "markdown",
   "id": "56dad5a4",
   "metadata": {},
   "source": [
    "Let's create a new tensor `y` by combining these tensors"
   ]
  },
  {
   "cell_type": "code",
   "execution_count": 12,
   "id": "fd1b0f2a",
   "metadata": {},
   "outputs": [
    {
     "data": {
      "text/plain": [
       "tensor(17., grad_fn=<AddBackward0>)"
      ]
     },
     "execution_count": 12,
     "metadata": {},
     "output_type": "execute_result"
    }
   ],
   "source": [
    "# Arithmetic Operations\n",
    "y = w * x + b\n",
    "y"
   ]
  },
  {
   "cell_type": "markdown",
   "id": "c41ca330",
   "metadata": {},
   "source": [
    "As expected, `y` is tensor with the `3 * 4 + 5 = 17`. What makes PyTorch unique is that we can automatically compute the derivative of `y` w.r.t the tensors that have `required_grad` set to `True` i.e., w and b. This feature of PyTorch is called `autograd`(automatic gradients). \n",
    "To compute the derivative we can invoke the `.backward`method on our result `y`."
   ]
  },
  {
   "cell_type": "code",
   "execution_count": 13,
   "id": "3f8d3108",
   "metadata": {},
   "outputs": [],
   "source": [
    "# Compute Derivatives\n",
    "y.backward()"
   ]
  },
  {
   "cell_type": "markdown",
   "id": "120a3b29",
   "metadata": {},
   "source": [
    "The derivates of `y` w.r.t the input tensors are stored in the `.grad` property of the respective tensors."
   ]
  },
  {
   "cell_type": "code",
   "execution_count": 14,
   "id": "01e18bc1",
   "metadata": {},
   "outputs": [
    {
     "name": "stdout",
     "output_type": "stream",
     "text": [
      "dy/dx: None\n",
      "dy/dw: tensor(3.)\n",
      "dy/db: tensor(1.)\n"
     ]
    }
   ],
   "source": [
    "# Display gradients\n",
    "print('dy/dx:', x.grad)\n",
    "print('dy/dw:', w.grad)\n",
    "print('dy/db:', b.grad)"
   ]
  },
  {
   "cell_type": "markdown",
   "id": "769dae68",
   "metadata": {},
   "source": [
    "As expected, `dy/dw` has the same value as `x` i.e., `3` and `dy/db` has the value '1'. \n",
    "#### Note : `x.grad` is `None` because `x` doesn't have `requires_grad` set to `True`."
   ]
  },
  {
   "cell_type": "markdown",
   "id": "e7b2bd4d",
   "metadata": {},
   "source": [
    "The \"grad\" in `w.grad` stands for gradient, which is another term for derivative, used mainly when dealing with matrices."
   ]
  },
  {
   "cell_type": "markdown",
   "id": "d8bc103c",
   "metadata": {},
   "source": [
    "## Interoperability with Numpy"
   ]
  },
  {
   "cell_type": "markdown",
   "id": "12e89b52",
   "metadata": {},
   "source": [
    "[Numpy](http://www.numpy.org/) is a popular opeb-source library used for mathematical and scientific computing in Python. It enables efficient operations on large multi-dimensional arrays and has a vast ecosystem of supporting libraries, including:\n",
    "\n",
    "* [Matplotlib](https://matplotlib.org/) for plotting and visualization\n",
    "* [OpenCV](https://opencv.org/) for image and video processing\n",
    "* [Pandas](https://pandas.pydata.org/) for file I/O and data analysis\n",
    "\n",
    "Instead of reinventing the wheel, PyTorch interoperates really well with Numpy to leverage its existing ecosystem of tools and libraries."
   ]
  },
  {
   "cell_type": "code",
   "execution_count": 15,
   "id": "c60adb53",
   "metadata": {},
   "outputs": [],
   "source": [
    "import numpy as np"
   ]
  },
  {
   "cell_type": "code",
   "execution_count": 16,
   "id": "9e97dd1a",
   "metadata": {},
   "outputs": [
    {
     "data": {
      "text/plain": [
       "array([[1., 2.],\n",
       "       [3., 4.]])"
      ]
     },
     "execution_count": 16,
     "metadata": {},
     "output_type": "execute_result"
    }
   ],
   "source": [
    "x = np.array([[1, 2], [3, 4.]])\n",
    "x"
   ]
  },
  {
   "cell_type": "markdown",
   "id": "056ef60f",
   "metadata": {},
   "source": [
    "We can convert a Numpy to a PyTorch tensor using `torch.from_numpy`"
   ]
  },
  {
   "cell_type": "code",
   "execution_count": 17,
   "id": "63dd98fc",
   "metadata": {},
   "outputs": [
    {
     "data": {
      "text/plain": [
       "tensor([[1., 2.],\n",
       "        [3., 4.]], dtype=torch.float64)"
      ]
     },
     "execution_count": 17,
     "metadata": {},
     "output_type": "execute_result"
    }
   ],
   "source": [
    "# Convert the numpy array to a torch sensor\n",
    "y = torch.from_numpy(x)\n",
    "y"
   ]
  },
  {
   "cell_type": "markdown",
   "id": "4ebc003f",
   "metadata": {},
   "source": [
    "Let's verify that the numpy array and torch tensor have similar data types"
   ]
  },
  {
   "cell_type": "code",
   "execution_count": 18,
   "id": "11983cef",
   "metadata": {},
   "outputs": [
    {
     "data": {
      "text/plain": [
       "(dtype('float64'), torch.float64)"
      ]
     },
     "execution_count": 18,
     "metadata": {},
     "output_type": "execute_result"
    }
   ],
   "source": [
    "x.dtype, y.dtype"
   ]
  },
  {
   "cell_type": "markdown",
   "id": "aa870f9e",
   "metadata": {},
   "source": [
    "We can convert a PyTorch tensor to a Numpy array using the `.numpy()` method of a tensor"
   ]
  },
  {
   "cell_type": "code",
   "execution_count": 19,
   "id": "3aab7ed8",
   "metadata": {},
   "outputs": [
    {
     "data": {
      "text/plain": [
       "array([[1., 2.],\n",
       "       [3., 4.]])"
      ]
     },
     "execution_count": 19,
     "metadata": {},
     "output_type": "execute_result"
    }
   ],
   "source": [
    "# Convert a torch tensor to a numpy array\n",
    "z = y.numpy()\n",
    "z"
   ]
  },
  {
   "cell_type": "markdown",
   "id": "4b3855eb",
   "metadata": {},
   "source": [
    "The interoperability between PyTorch and Numpy is really important because most datasets you'll work with will likely be read and preprocessed as Numpy arrays.\n",
    "\n",
    "You might wonder why we need a library like PyTorch at all since Numpy already provides data structures and utilities for working with multi-dimensional numeric data. There are 2 main reasons :\n",
    "1. Autograd : The ability to automatically compute gradients for tensor operations is essential for training deep learning models.\n",
    "2. GPU Support : While working with massive dataset and large models, PyTorch tensor operations can be performed efficiently using a Graphics Processing Unit (GPU). Computations that might typically take hours can be completed within minutes using GPUs."
   ]
  },
  {
   "cell_type": "markdown",
   "id": "92e2292d",
   "metadata": {},
   "source": [
    "With this, we complete our discussion of tensors and gradients in PyTorch, and we're ready to move on to the next topic: Linear regression."
   ]
  },
  {
   "cell_type": "code",
   "execution_count": 20,
   "id": "8b65837c",
   "metadata": {},
   "outputs": [
    {
     "name": "stdout",
     "output_type": "stream",
     "text": [
      "Collecting jovian\n",
      "  Using cached jovian-0.2.47-py2.py3-none-any.whl (68 kB)\n",
      "Requirement already satisfied: requests in e:\\anaconda\\envs\\pytorch_tutorials\\lib\\site-packages (from jovian) (2.31.0)\n",
      "Collecting uuid (from jovian)\n",
      "  Using cached uuid-1.30.tar.gz (5.8 kB)\n",
      "  Preparing metadata (setup.py): started\n",
      "  Preparing metadata (setup.py): finished with status 'done'\n",
      "Requirement already satisfied: pyyaml in e:\\anaconda\\envs\\pytorch_tutorials\\lib\\site-packages (from jovian) (6.0)\n",
      "Collecting click (from jovian)\n",
      "  Obtaining dependency information for click from https://files.pythonhosted.org/packages/1a/70/e63223f8116931d365993d4a6b7ef653a4d920b41d03de7c59499962821f/click-8.1.6-py3-none-any.whl.metadata\n",
      "  Downloading click-8.1.6-py3-none-any.whl.metadata (3.0 kB)\n",
      "Requirement already satisfied: colorama in c:\\users\\rsluc\\appdata\\roaming\\python\\python311\\site-packages (from click->jovian) (0.4.6)\n",
      "Requirement already satisfied: charset-normalizer<4,>=2 in e:\\anaconda\\envs\\pytorch_tutorials\\lib\\site-packages (from requests->jovian) (2.0.4)\n",
      "Requirement already satisfied: idna<4,>=2.5 in e:\\anaconda\\envs\\pytorch_tutorials\\lib\\site-packages (from requests->jovian) (3.4)\n",
      "Requirement already satisfied: urllib3<3,>=1.21.1 in e:\\anaconda\\envs\\pytorch_tutorials\\lib\\site-packages (from requests->jovian) (1.26.16)\n",
      "Requirement already satisfied: certifi>=2017.4.17 in e:\\anaconda\\envs\\pytorch_tutorials\\lib\\site-packages (from requests->jovian) (2023.7.22)\n",
      "Downloading click-8.1.6-py3-none-any.whl (97 kB)\n",
      "   ---------------------------------------- 0.0/97.9 kB ? eta -:--:--\n",
      "   ------------------------------------- -- 92.2/97.9 kB 2.6 MB/s eta 0:00:01\n",
      "   ---------------------------------------- 97.9/97.9 kB 2.8 MB/s eta 0:00:00\n",
      "Building wheels for collected packages: uuid\n",
      "  Building wheel for uuid (setup.py): started\n",
      "  Building wheel for uuid (setup.py): finished with status 'done'\n",
      "  Created wheel for uuid: filename=uuid-1.30-py3-none-any.whl size=6484 sha256=4e21c197a859a8ae016be61abdf22c6bc647d7f5487d9998386a747220801929\n",
      "  Stored in directory: c:\\users\\rsluc\\appdata\\local\\pip\\cache\\wheels\\e0\\01\\df\\bd20df409bd81f8b99e6cd343c5f49731dc0a20eefefdafae0\n",
      "Successfully built uuid\n",
      "Installing collected packages: uuid, click, jovian\n",
      "Successfully installed click-8.1.6 jovian-0.2.47 uuid-1.30\n"
     ]
    }
   ],
   "source": [
    "!pip install jovian --upgrade"
   ]
  },
  {
   "cell_type": "code",
   "execution_count": 21,
   "id": "3ea2d1af",
   "metadata": {},
   "outputs": [
    {
     "data": {
      "application/javascript": [
       "if (window.IPython && IPython.notebook.kernel) IPython.notebook.kernel.execute('jovian.utils.jupyter.get_notebook_name_saved = lambda: \"' + IPython.notebook.notebook_name + '\"')"
      ],
      "text/plain": [
       "<IPython.core.display.Javascript object>"
      ]
     },
     "metadata": {},
     "output_type": "display_data"
    }
   ],
   "source": [
    "import jovian"
   ]
  },
  {
   "cell_type": "code",
   "execution_count": null,
   "id": "63909c0b",
   "metadata": {},
   "outputs": [
    {
     "data": {
      "application/javascript": [
       "window.require && require([\"base/js/namespace\"],function(Jupyter){Jupyter.notebook.save_checkpoint()})"
      ],
      "text/plain": [
       "<IPython.core.display.Javascript object>"
      ]
     },
     "metadata": {},
     "output_type": "display_data"
    }
   ],
   "source": [
    "jovian.commit()"
   ]
  },
  {
   "cell_type": "code",
   "execution_count": null,
   "id": "370a7812",
   "metadata": {},
   "outputs": [],
   "source": []
  }
 ],
 "metadata": {
  "kernelspec": {
   "display_name": "Python 3 (ipykernel)",
   "language": "python",
   "name": "python3"
  },
  "language_info": {
   "codemirror_mode": {
    "name": "ipython",
    "version": 3
   },
   "file_extension": ".py",
   "mimetype": "text/x-python",
   "name": "python",
   "nbconvert_exporter": "python",
   "pygments_lexer": "ipython3",
   "version": "3.11.4"
  }
 },
 "nbformat": 4,
 "nbformat_minor": 5
}
